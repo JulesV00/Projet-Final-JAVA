{
 "cells": [
  {
   "cell_type": "markdown",
   "metadata": {},
   "source": [
    "# Simple Hello World"
   ]
  },
  {
   "cell_type": "code",
   "execution_count": 1,
   "metadata": {},
   "outputs": [
    {
     "data": {
      "text/plain": [
       "Hello World !"
      ]
     },
     "execution_count": 1,
     "metadata": {},
     "output_type": "execute_result"
    }
   ],
   "source": [
    "String message = \"Hello\";\n",
    "\n",
    "message + \" World !\""
   ]
  },
  {
   "cell_type": "markdown",
   "metadata": {},
   "source": [
    "# 1. Info Entreprise"
   ]
  },
  {
   "cell_type": "code",
   "execution_count": 9,
   "metadata": {},
   "outputs": [
    {
     "name": "stdout",
     "output_type": "stream",
     "text": [
      "Saisir le Ve de E1: \n"
     ]
    },
    {
     "name": "stdout",
     "output_type": "stream",
     "text": [
      "Saisir le Ve de E2: \n",
      "+---------------+-------+\n",
      "| Entreprise    |   Ve  |\n",
      "+---------------+-------+\n",
      "| E1            |  2000 |\n",
      "| E2            |  3000 |\n",
      "+---------------+-------+\n"
     ]
    }
   ],
   "source": [
    "\n",
    "import java.util.Scanner;\n",
    "\n",
    "Scanner keyboard = new Scanner(System.in);\n",
    "\n",
    "String companyName1 = \"E1\";  \n",
    "\n",
    "System.out.printf(\"Saisir le Ve de %s: \\n\", companyName1);\n",
    "int Ve1 = keyboard.nextInt();\n",
    "\n",
    "String companyName2 = \"E2\";\n",
    "\n",
    "System.out.printf(\"Saisir le Ve de %s: \\n\", companyName2);\n",
    "int Ve2 = keyboard.nextInt();\n",
    "\n",
    "keyboard.close();\n",
    "\n",
    "double total = 0;\n",
    "\n",
    "System.out.println(\"+---------------+-------+\");\n",
    "System.out.println(\"| Entreprise    |   Ve  |\");\n",
    "System.out.println(\"+---------------+-------+\");\n",
    "\n",
    "\n",
    "System.out.printf(\"| %-13s |  %3d |\\n\", companyName1, Ve1);\n",
    "\n",
    "System.out.printf(\"| %-13s |  %3d |\\n\", companyName2, Ve2);\n",
    "\n",
    "System.out.println(\"+---------------+-------+\");\n"
   ]
  },
  {
   "cell_type": "code",
   "execution_count": 11,
   "metadata": {},
   "outputs": [
    {
     "name": "stdout",
     "output_type": "stream",
     "text": [
      "Saisir le Ve de E1: \n",
      "Saisir le Ve de E2: \n",
      "Saisir le Ve de E3: \n",
      "Saisir le Ve de E4: \n",
      "Saisir le Ve de E5: \n",
      "+---------------+-------+\n",
      "| Entreprise    |   Ve  |\n",
      "+---------------+-------+\n",
      "| E1            |  2000 |\n",
      "| E2            |  1000 |\n",
      "| E3            |  3000 |\n",
      "| E4            |  5000 |\n",
      "| E5            |  3000 |\n",
      "+---------------+-------+\n"
     ]
    }
   ],
   "source": [
    "import java.util.Scanner;\n",
    "\n",
    "Scanner keyboard = new Scanner(System.in);\n",
    "\n",
    "String companyName1 = \"E1\";\n",
    "System.out.printf(\"Saisir le Ve de %s: \\n\", companyName1);\n",
    "int Ve1 = keyboard.nextInt();\n",
    "\n",
    "String companyName2 = \"E2\";\n",
    "System.out.printf(\"Saisir le Ve de %s: \\n\", companyName2);\n",
    "int Ve2 = keyboard.nextInt();\n",
    "\n",
    "String companyName3 = \"E3\";\n",
    "System.out.printf(\"Saisir le Ve de %s: \\n\", companyName3);\n",
    "int Ve3 = keyboard.nextInt();\n",
    "\n",
    "String companyName4 = \"E4\";\n",
    "System.out.printf(\"Saisir le Ve de %s: \\n\", companyName4);\n",
    "int Ve4 = keyboard.nextInt();\n",
    "\n",
    "String companyName5 = \"E5\";\n",
    "System.out.printf(\"Saisir le Ve de %s: \\n\", companyName5);\n",
    "int Ve5 = keyboard.nextInt();\n",
    "\n",
    "keyboard.close();\n",
    "\n",
    "System.out.println(\"+---------------+-------+\");\n",
    "System.out.println(\"| Entreprise    |   Ve  |\");\n",
    "System.out.println(\"+---------------+-------+\");\n",
    "\n",
    "System.out.printf(\"| %-13s |  %3d |\\n\", companyName1, Ve1);\n",
    "System.out.printf(\"| %-13s |  %3d |\\n\", companyName2, Ve2);\n",
    "System.out.printf(\"| %-13s |  %3d |\\n\", companyName3, Ve3);\n",
    "System.out.printf(\"| %-13s |  %3d |\\n\", companyName4, Ve4);\n",
    "System.out.printf(\"| %-13s |  %3d |\\n\", companyName5, Ve5);\n",
    "\n",
    "System.out.println(\"+---------------+-------+\");\n"
   ]
  },
  {
   "cell_type": "code",
   "execution_count": 4,
   "metadata": {},
   "outputs": [
    {
     "name": "stdout",
     "output_type": "stream",
     "text": [
      "Saisir le Ve de E1: \n",
      "Saisir le REX de E1: \n",
      "Saisir le Vd AM de E1: \n",
      "Saisir le REX AM de E1: \n",
      "Saisir le Ve de E2: \n",
      "Saisir le REX de E2: \n",
      "Saisir le Vd AM de E2: \n",
      "Saisir le REX AM de E2: \n",
      "Saisir le Ve de E3: \n",
      "Saisir le REX de E3: \n",
      "Saisir le Vd AM de E3: \n",
      "Saisir le REX AM de E3: \n",
      "Saisir le Ve de E4: \n",
      "Saisir le REX de E4: \n",
      "Saisir le Vd AM de E4: \n",
      "Saisir le REX AM de E4: \n",
      "Saisir le Ve de E5: \n",
      "Saisir le REX de E5: \n",
      "Saisir le Vd AM de E5: \n",
      "Saisir le REX AM de E5: \n",
      "+---------------+-------+-------+--------+--------+\n",
      "| Entreprise    |   Ve  |  REX  |  Vd AM | REX AM |\n",
      "+---------------+-------+-------+--------+--------+\n",
      "| E1            |  3456 |  3456 |  3456  |  3456  |\n",
      "| E2            |  3456 |  3456 |  3456  |  3456  |\n",
      "| E3            |  3456 |  3456 |  3456  |  3456  |\n",
      "| E4            |  3456 |  3456 |  3456  |  3456  |\n",
      "| E5            |  3456 |  3456 |  3456  |  3456  |\n",
      "+---------------+-------+-------+--------+--------+\n",
      "\n",
      "+---------------+------------------+\n",
      "| Entreprise    | Moyenne du REX   |\n",
      "+---------------+------------------+\n",
      "| E1            |             1.00 |\n",
      "| E2            |             1.00 |\n",
      "| E3            |             1.00 |\n",
      "| E4            |             1.00 |\n",
      "| E5            |             1.00 |\n",
      "+---------------+------------------+\n"
     ]
    },
    {
     "ename": "CompilerException",
     "evalue": "",
     "output_type": "error",
     "traceback": [
      "\u001b[0m\u001b[1m\u001b[31mCompile error:\u001b[0m",
      "\u001b[0m\u001b[1m|    \u001b[0m\u001b[1m\u001b[48;2;235;145;148m\u001b[0m\u001b[1m}\u001b[0m",
      "\u001b[0m\u001b[1m     ^\u001b[0m",
      "\u001b[0m\u001b[1;30m|    }\u001b[0m",
      "\u001b[0m\u001b[1m\u001b[34millegal start of statement\u001b[0m",
      ""
     ]
    }
   ],
   "source": [
    "import java.util.Scanner;\n",
    "\n",
    "    Scanner keyboard = new Scanner(System.in);\n",
    "\n",
    "       // Tableau pour stocker les données des entreprises\n",
    "        String[] companyNames = {\"E1\", \"E2\", \"E3\", \"E4\", \"E5\"};\n",
    "        int[] Ve = new int[5];\n",
    "        int[] REX = new int[5];\n",
    "        int[] VdAM = new int[5];\n",
    "        int[] REXAM = new int[5];\n",
    "\n",
    "        for (int i = 0; i < 5; i++) {\n",
    "            System.out.printf(\"Saisir le Ve de %s: \\n\", companyNames[i]);\n",
    "            Ve[i] = keyboard.nextInt();\n",
    "\n",
    "            System.out.printf(\"Saisir le REX de %s: \\n\", companyNames[i]);\n",
    "            REX[i] = keyboard.nextInt();\n",
    "\n",
    "            System.out.printf(\"Saisir le Vd AM de %s: \\n\", companyNames[i]);\n",
    "            VdAM[i] = keyboard.nextInt();\n",
    "\n",
    "            System.out.printf(\"Saisir le REX AM de %s: \\n\", companyNames[i]);\n",
    "            REXAM[i] = keyboard.nextInt();\n",
    "        }\n",
    "\n",
    "        keyboard.close();\n",
    "\n",
    "        // Affichage des données saisies\n",
    "        System.out.println(\"+---------------+-------+-------+--------+--------+\");\n",
    "        System.out.println(\"| Entreprise    |   Ve  |  REX  |  Vd AM | REX AM |\");\n",
    "        System.out.println(\"+---------------+-------+-------+--------+--------+\");\n",
    "\n",
    "        for (int i = 0; i < 5; i++) {\n",
    "            System.out.printf(\"| %-13s |  %3d |  %3d |  %3d  |  %3d  |\\n\",\n",
    "                    companyNames[i], Ve[i], REX[i], VdAM[i], REXAM[i]);\n",
    "        }\n",
    "\n",
    "        System.out.println(\"+---------------+-------+-------+--------+--------+\");\n",
    "        \n",
    "        // Étape 2: Calculer la moyenne du REX pour chaque entreprise\n",
    "        double[] averageREX = new double[5];\n",
    "\n",
    "        for (int i = 0; i < 5; i++) {\n",
    "            if (REX[i] != 0) {\n",
    "                averageREX[i] = (double) Ve[i] / REX[i];\n",
    "            } else {\n",
    "                averageREX[i] = 0; // ou gérez ce cas selon vos besoins\n",
    "            }\n",
    "        }\n",
    "\n",
    "        // Affichage des moyennes du REX\n",
    "        System.out.println(\"\\n+---------------+------------------+\");\n",
    "        System.out.println(\"| Entreprise    | Moyenne du REX   |\");\n",
    "        System.out.println(\"+---------------+------------------+\");\n",
    "\n",
    "        for (int i = 0; i < 5; i++) {\n",
    "            System.out.printf(\"| %-13s | %16.2f |\\n\", companyNames[i], averageREX[i]);\n",
    "        }\n",
    "\n",
    "        System.out.println(\"+---------------+------------------+\");\n",
    "    }\n",
    "}\n"
   ]
  },
  {
   "cell_type": "markdown",
   "metadata": {},
   "source": [
    "# 2. Calcul de la Moyenne de REX"
   ]
  },
  {
   "cell_type": "code",
   "execution_count": null,
   "metadata": {},
   "outputs": [],
   "source": [
    "        // Tableau pour stocker les données des entreprises\n",
    "        String[] companyNames = {\"E1\", \"E2\", \"E3\", \"E4\", \"E5\"};\n",
    "        int[] Ve = new int[5];\n",
    "        int[] REX = new int[5];\n",
    "        int[] VdAM = new int[5];\n",
    "        int[] REXAM = new int[5];\n",
    "\n",
    "        // Saisie des données\n",
    "        for (int i = 0; i < 5; i++) {\n",
    "            System.out.printf(\"Saisir le Ve de %s: \\n\", companyNames[i]);\n",
    "            Ve[i] = keyboard.nextInt();\n",
    "\n",
    "            System.out.printf(\"Saisir le REX de %s: \\n\", companyNames[i]);\n",
    "            REX[i] = keyboard.nextInt();\n",
    "\n",
    "            System.out.printf(\"Saisir le Vd AM de %s: \\n\", companyNames[i]);\n",
    "            VdAM[i] = keyboard.nextInt();\n",
    "\n",
    "            System.out.printf(\"Saisir le REX AM de %s: \\n\", companyNames[i]);\n",
    "            REXAM[i] = keyboard.nextInt();\n",
    "        }\n",
    "\n",
    "        keyboard.close();\n",
    "\n",
    "        // Affichage des données saisies\n",
    "        System.out.println(\"+---------------+-------+-------+--------+--------+\");\n",
    "        System.out.println(\"| Entreprise    |   Ve  |  REX  |  Vd AM | REX AM |\");\n",
    "        System.out.println(\"+---------------+-------+-------+--------+--------+\");\n",
    "\n",
    "        for (int i = 0; i < 5; i++) {\n",
    "            System.out.printf(\"| %-13s |  %3d |  %3d |  %3d  |  %3d  |\\n\",\n",
    "                    companyNames[i], Ve[i], REX[i], VdAM[i], REXAM[i]);\n",
    "        }\n",
    "\n",
    "        System.out.println(\"+---------------+-------+-------+--------+--------+\");\n",
    "\n",
    "        // Étape 2: Calculer la moyenne du REX pour chaque entreprise\n",
    "        double[] averageREX = new double[5];\n",
    "\n",
    "        for (int i = 0; i < 5; i++) {\n",
    "            if (REX[i] != 0) {\n",
    "                averageREX[i] = (double) Ve[i] / REX[i];\n",
    "            } else {\n",
    "                averageREX[i] = 0; // ou gérez ce cas selon vos besoins\n",
    "            }\n",
    "        }\n",
    "\n",
    "        // Affichage des moyennes du REX\n",
    "        System.out.println(\"\\n+---------------+------------------+\");\n",
    "        System.out.println(\"| Entreprise    | Moyenne du REX   |\");\n",
    "        System.out.println(\"+---------------+------------------+\");\n",
    "\n",
    "        for (int i = 0; i < 5; i++) {\n",
    "            System.out.printf(\"| %-13s | %16.2f |\\n\", companyNames[i], averageREX[i]);\n",
    "        }\n",
    "\n",
    "        System.out.println(\"+---------------+------------------+\");\n",
    "    }\n",
    "}\n"
   ]
  }
 ],
 "metadata": {
  "kernelspec": {
   "display_name": "Java (rjk 2.2.0)",
   "language": "java",
   "name": "rapaio-jupyter-kernel"
  },
  "language_info": {
   "codemirror_mode": "java",
   "file_extension": ".jshell",
   "mimetype": "text/x-java-source",
   "name": "java",
   "nbconvert_exporter": "script",
   "pygments_lexer": "java",
   "version": "21.0.7+6-LTS"
  }
 },
 "nbformat": 4,
 "nbformat_minor": 2
}
